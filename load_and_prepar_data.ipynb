{
  "cells": [
    {
      "cell_type": "markdown",
      "metadata": {
        "colab_type": "text",
        "id": "view-in-github"
      },
      "source": [
        "<a href=\"https://colab.research.google.com/github/mohammadp1001/kaggle_payground_prediction_s5e6/blob/main/S5E6_XGBoost_0601.ipynb\" target=\"_parent\"><img src=\"https://colab.research.google.com/assets/colab-badge.svg\" alt=\"Open In Colab\"/></a>"
      ]
    },
    {
      "cell_type": "code",
      "execution_count": 3,
      "metadata": {},
      "outputs": [
        {
          "data": {
            "application/vnd.jupyter.widget-view+json": {
              "model_id": "2fdb8e97b400436fb7040bb3d933793a",
              "version_major": 2,
              "version_minor": 0
            },
            "text/plain": [
              "VBox(children=(HTML(value='<center> <img\\nsrc=https://www.kaggle.com/static/images/site-logo.png\\nalt=\\'Kaggle…"
            ]
          },
          "metadata": {},
          "output_type": "display_data"
        }
      ],
      "source": [
        "# IMPORTANT: SOME KAGGLE DATA SOURCES ARE PRIVATE\n",
        "# RUN THIS CELL IN ORDER TO IMPORT YOUR KAGGLE DATA SOURCES.\n",
        "import kagglehub\n",
        "kagglehub.login()"
      ]
    },
    {
      "cell_type": "code",
      "execution_count": 4,
      "metadata": {},
      "outputs": [
        {
          "name": "stdout",
          "output_type": "stream",
          "text": [
            "Data source import complete.\n"
          ]
        }
      ],
      "source": [
        "# NOTE: THIS NOTEBOOK ENVIRONMENT DIFFERS FROM KAGGLE'S PYTHON\n",
        "# ENVIRONMENT SO THERE MAY BE MISSING LIBRARIES USED BY YOUR\n",
        "# NOTEBOOK.\n",
        "\n",
        "playground_series_s5e6_path = kagglehub.competition_download('jigsaw-agile-community-rules')\n",
        "print('Data source import complete.')"
      ]
    },
    {
      "cell_type": "code",
      "execution_count": 5,
      "metadata": {},
      "outputs": [],
      "source": [
        "import os\n",
        "import numpy as np\n",
        "import torch\n",
        "from tqdm import tqdm\n",
        "import pandas as pd\n",
        "import torch.nn as nn\n",
        "import torch.optim as optim\n",
        "from torch.utils.data import DataLoader, Dataset"
      ]
    },
    {
      "cell_type": "code",
      "execution_count": 6,
      "metadata": {},
      "outputs": [],
      "source": [
        "train = pd.read_csv(\"/kaggle/input/jigsaw-agile-community-rules/train.csv\")\n",
        "test = pd.read_csv(\"/kaggle/input/jigsaw-agile-community-rules/test.csv\")"
      ]
    },
    {
      "cell_type": "code",
      "execution_count": 7,
      "metadata": {},
      "outputs": [
        {
          "data": {
            "text/html": [
              "<div>\n",
              "<style scoped>\n",
              "    .dataframe tbody tr th:only-of-type {\n",
              "        vertical-align: middle;\n",
              "    }\n",
              "\n",
              "    .dataframe tbody tr th {\n",
              "        vertical-align: top;\n",
              "    }\n",
              "\n",
              "    .dataframe thead th {\n",
              "        text-align: right;\n",
              "    }\n",
              "</style>\n",
              "<table border=\"1\" class=\"dataframe\">\n",
              "  <thead>\n",
              "    <tr style=\"text-align: right;\">\n",
              "      <th></th>\n",
              "      <th>row_id</th>\n",
              "      <th>body</th>\n",
              "      <th>rule</th>\n",
              "      <th>subreddit</th>\n",
              "      <th>positive_example_1</th>\n",
              "      <th>positive_example_2</th>\n",
              "      <th>negative_example_1</th>\n",
              "      <th>negative_example_2</th>\n",
              "      <th>rule_violation</th>\n",
              "    </tr>\n",
              "  </thead>\n",
              "  <tbody>\n",
              "    <tr>\n",
              "      <th>0</th>\n",
              "      <td>0</td>\n",
              "      <td>Banks don't want you to know this! Click here ...</td>\n",
              "      <td>No Advertising: Spam, referral links, unsolici...</td>\n",
              "      <td>Futurology</td>\n",
              "      <td>If you could tell your younger self something ...</td>\n",
              "      <td>hunt for lady for jack off in neighbourhood ht...</td>\n",
              "      <td>Watch Golden Globe Awards 2017 Live Online in ...</td>\n",
              "      <td>DOUBLE CEE x BANDS EPPS - \"BIRDS\"\\n\\nDOWNLOAD/...</td>\n",
              "      <td>0</td>\n",
              "    </tr>\n",
              "    <tr>\n",
              "      <th>1</th>\n",
              "      <td>1</td>\n",
              "      <td>SD Stream [ ENG Link 1] (http://www.sportsstre...</td>\n",
              "      <td>No Advertising: Spam, referral links, unsolici...</td>\n",
              "      <td>soccerstreams</td>\n",
              "      <td>[I wanna kiss you all over! Stunning!](http://...</td>\n",
              "      <td>LOLGA.COM is One of the First Professional Onl...</td>\n",
              "      <td>#Rapper \\n🚨Straight Outta Cross Keys SC 🚨YouTu...</td>\n",
              "      <td>[15 Amazing Hidden Features Of Google Search Y...</td>\n",
              "      <td>0</td>\n",
              "    </tr>\n",
              "  </tbody>\n",
              "</table>\n",
              "</div>"
            ],
            "text/plain": [
              "   row_id                                               body  \\\n",
              "0       0  Banks don't want you to know this! Click here ...   \n",
              "1       1  SD Stream [ ENG Link 1] (http://www.sportsstre...   \n",
              "\n",
              "                                                rule      subreddit  \\\n",
              "0  No Advertising: Spam, referral links, unsolici...     Futurology   \n",
              "1  No Advertising: Spam, referral links, unsolici...  soccerstreams   \n",
              "\n",
              "                                  positive_example_1  \\\n",
              "0  If you could tell your younger self something ...   \n",
              "1  [I wanna kiss you all over! Stunning!](http://...   \n",
              "\n",
              "                                  positive_example_2  \\\n",
              "0  hunt for lady for jack off in neighbourhood ht...   \n",
              "1  LOLGA.COM is One of the First Professional Onl...   \n",
              "\n",
              "                                  negative_example_1  \\\n",
              "0  Watch Golden Globe Awards 2017 Live Online in ...   \n",
              "1  #Rapper \\n🚨Straight Outta Cross Keys SC 🚨YouTu...   \n",
              "\n",
              "                                  negative_example_2  rule_violation  \n",
              "0  DOUBLE CEE x BANDS EPPS - \"BIRDS\"\\n\\nDOWNLOAD/...               0  \n",
              "1  [15 Amazing Hidden Features Of Google Search Y...               0  "
            ]
          },
          "execution_count": 7,
          "metadata": {},
          "output_type": "execute_result"
        }
      ],
      "source": [
        "train.head(2)"
      ]
    },
    {
      "cell_type": "code",
      "execution_count": 8,
      "metadata": {},
      "outputs": [
        {
          "data": {
            "text/plain": [
              "rule_violation\n",
              "1    1031\n",
              "0     998\n",
              "Name: count, dtype: int64"
            ]
          },
          "execution_count": 8,
          "metadata": {},
          "output_type": "execute_result"
        }
      ],
      "source": [
        "train[\"rule_violation\"].value_counts()"
      ]
    },
    {
      "cell_type": "code",
      "execution_count": 9,
      "metadata": {},
      "outputs": [
        {
          "data": {
            "text/html": [
              "<div>\n",
              "<style scoped>\n",
              "    .dataframe tbody tr th:only-of-type {\n",
              "        vertical-align: middle;\n",
              "    }\n",
              "\n",
              "    .dataframe tbody tr th {\n",
              "        vertical-align: top;\n",
              "    }\n",
              "\n",
              "    .dataframe thead th {\n",
              "        text-align: right;\n",
              "    }\n",
              "</style>\n",
              "<table border=\"1\" class=\"dataframe\">\n",
              "  <thead>\n",
              "    <tr style=\"text-align: right;\">\n",
              "      <th></th>\n",
              "      <th>row_id</th>\n",
              "      <th>body</th>\n",
              "      <th>rule</th>\n",
              "      <th>subreddit</th>\n",
              "      <th>positive_example_1</th>\n",
              "      <th>positive_example_2</th>\n",
              "      <th>negative_example_1</th>\n",
              "      <th>negative_example_2</th>\n",
              "    </tr>\n",
              "  </thead>\n",
              "  <tbody>\n",
              "    <tr>\n",
              "      <th>0</th>\n",
              "      <td>2029</td>\n",
              "      <td>NEW RAP GROUP 17. CHECK US OUT https://soundcl...</td>\n",
              "      <td>No Advertising: Spam, referral links, unsolici...</td>\n",
              "      <td>hiphopheads</td>\n",
              "      <td>Hey, guys, just wanted to drop in and invite y...</td>\n",
              "      <td>Cum Swallowing Hottie Katrina Kaif Cartoon Xvi...</td>\n",
              "      <td>SD Stream Eng - [Chelsea TV USA](http://soccer...</td>\n",
              "      <td>HD Streams: |[ENG HD Stoke vs Manchester Unite...</td>\n",
              "    </tr>\n",
              "    <tr>\n",
              "      <th>1</th>\n",
              "      <td>2030</td>\n",
              "      <td>Make your life comfortable. Get up to 15% Disc...</td>\n",
              "      <td>No legal advice: Do not offer or request legal...</td>\n",
              "      <td>AskReddit</td>\n",
              "      <td>Get a lawyer and get the security camera foota...</td>\n",
              "      <td>That isn't drastic. You tried reaching out to ...</td>\n",
              "      <td>So what are you going to do with the insurance...</td>\n",
              "      <td>It's just for Austria &amp; Germany. If you still ...</td>\n",
              "    </tr>\n",
              "  </tbody>\n",
              "</table>\n",
              "</div>"
            ],
            "text/plain": [
              "   row_id                                               body  \\\n",
              "0    2029  NEW RAP GROUP 17. CHECK US OUT https://soundcl...   \n",
              "1    2030  Make your life comfortable. Get up to 15% Disc...   \n",
              "\n",
              "                                                rule    subreddit  \\\n",
              "0  No Advertising: Spam, referral links, unsolici...  hiphopheads   \n",
              "1  No legal advice: Do not offer or request legal...    AskReddit   \n",
              "\n",
              "                                  positive_example_1  \\\n",
              "0  Hey, guys, just wanted to drop in and invite y...   \n",
              "1  Get a lawyer and get the security camera foota...   \n",
              "\n",
              "                                  positive_example_2  \\\n",
              "0  Cum Swallowing Hottie Katrina Kaif Cartoon Xvi...   \n",
              "1  That isn't drastic. You tried reaching out to ...   \n",
              "\n",
              "                                  negative_example_1  \\\n",
              "0  SD Stream Eng - [Chelsea TV USA](http://soccer...   \n",
              "1  So what are you going to do with the insurance...   \n",
              "\n",
              "                                  negative_example_2  \n",
              "0  HD Streams: |[ENG HD Stoke vs Manchester Unite...  \n",
              "1  It's just for Austria & Germany. If you still ...  "
            ]
          },
          "execution_count": 9,
          "metadata": {},
          "output_type": "execute_result"
        }
      ],
      "source": [
        "test.head(2)"
      ]
    },
    {
      "cell_type": "code",
      "execution_count": 30,
      "metadata": {},
      "outputs": [],
      "source": [
        "from transformers import AutoTokenizer\n",
        "\n",
        "tokenizer = AutoTokenizer.from_pretrained('Qwen/Qwen-7B', trust_remote_code=True, pad_token='<|endoftext|>')"
      ]
    },
    {
      "cell_type": "code",
      "execution_count": 41,
      "metadata": {},
      "outputs": [],
      "source": [
        "class CommentDataset(Dataset):\n",
        "    \"\"\"Custom Dataset for loading comments and their labels.\"\"\"\n",
        "    def __init__(self, tokensizer, df, max_length=1024):\n",
        "        \"\"\"Initialize the dataset with texts and labels.\n",
        "\n",
        "        :param tokenizer: Tokenizer to convert text to tokens.\n",
        "        :param df: DataFrame containing the data.\n",
        "        :param max_length: Maximum length for tokenization. Default is 1024.\n",
        "        \"\"\"\n",
        "        self.tokenizer = tokensizer\n",
        "        self.max_length = max_length \n",
        "        self.texts = [f\"Body: {row.body} Rule: {row.rule} Positive Examples: {row.positive_example_1} {row.positive_example_2} Negative Examples: {row.negative_example_1}, {row.negative_example_2}\" \n",
        "                        for row in df.itertuples(index=False)]\n",
        "        \n",
        "        # Batch encode once during initialization\n",
        "        self.encodings = self.tokenizer(\n",
        "            self.texts,\n",
        "            truncation=True,\n",
        "            padding='max_length',\n",
        "            max_length=self.max_length,\n",
        "            return_tensors='pt'\n",
        "        )\n",
        "        self.labels = torch.tensor(df['rule_violation'].values, dtype=torch.long)\n",
        "        \n",
        "    def __len__(self):\n",
        "        return len(self.encodings['input_ids'])\n",
        "    \n",
        "    def __getitem__(self, idx):\n",
        "        return (\n",
        "            self.encodings['input_ids'][idx],\n",
        "            self.labels[idx] \n",
        "            )\n"
      ]
    },
    {
      "cell_type": "code",
      "execution_count": 42,
      "metadata": {},
      "outputs": [],
      "source": [
        "train_dataset = CommentDataset(tokenizer, train)\n",
        "batch_size = 8\n",
        "train_loader = DataLoader(train_dataset, batch_size=batch_size, shuffle=True, drop_last=True)"
      ]
    },
    {
      "cell_type": "code",
      "execution_count": 43,
      "metadata": {},
      "outputs": [
        {
          "name": "stdout",
          "output_type": "stream",
          "text": [
            "Input IDs shape: torch.Size([8, 1024])\n",
            "Labels shape: torch.Size([8])\n"
          ]
        }
      ],
      "source": [
        "for input_ids, labels in train_loader:\n",
        "    print(\"Input IDs shape:\", input_ids.shape)\n",
        "    print(\"Labels shape:\", labels.shape)\n",
        "    break"
      ]
    },
    {
      "cell_type": "markdown",
      "metadata": {},
      "source": [
        "As we can see the train_loader gives back input_ids and labels which contains 8 examples."
      ]
    }
  ],
  "metadata": {
    "colab": {
      "include_colab_link": true,
      "name": "S5E6-XGBoost-0601",
      "provenance": []
    },
    "kaggle": {
      "accelerator": "none",
      "dataSources": [],
      "isGpuEnabled": false,
      "isInternetEnabled": true,
      "language": "python",
      "sourceType": "notebook"
    },
    "kernelspec": {
      "display_name": "Python 3 (ipykernel)",
      "language": "python",
      "name": "python3"
    }
  },
  "nbformat": 4,
  "nbformat_minor": 0
}
